{
 "cells": [
  {
   "cell_type": "code",
   "execution_count": 1,
   "id": "2c23d30e-d581-4577-bcb8-feb1aad8fcd0",
   "metadata": {
    "tags": []
   },
   "outputs": [],
   "source": [
    "import pandas as pd\n",
    "import numpy as np\n",
    "import random\n",
    "import ipywidgets as widgets\n",
    "from IPython.display import display, clear_output\n",
    "\n",
    "# Load CSV file\n",
    "df = pd.read_csv('tickets.csv')\n",
    "participants = np.repeat(df['Name'].values, df['Tickets'].values).tolist()\n",
    "# print(participants)\n",
    "\n",
    "# Create UI elements\n",
    "display_participants_button = widgets.Button(description=\"Display Participants\")\n",
    "pick_winner_button = widgets.Button(description=\"Pick Winner\")\n",
    "winner_output = widgets.Output()\n",
    "\n",
    "# Function to display unique participant names\n",
    "def display_participants(b):\n",
    "    with winner_output:\n",
    "        clear_output(wait=True)\n",
    "        print(\"Participants:\")\n",
    "        for name in set(participants):\n",
    "            print(name)\n",
    "\n",
    "# Function to pick a winner\n",
    "def pick_winner(b):\n",
    "    if participants:\n",
    "        winner = random.choice(participants)\n",
    "        with winner_output:\n",
    "            clear_output(wait=True)\n",
    "            print(f\"The winner is: {winner}\")\n",
    "    else:\n",
    "        with winner_output:\n",
    "            clear_output(wait=True)\n",
    "            print(\"No participants loaded\")"
   ]
  },
  {
   "cell_type": "code",
   "execution_count": 2,
   "id": "4a952fb0-54a5-40c6-a7a7-f339c77050a4",
   "metadata": {
    "tags": []
   },
   "outputs": [
    {
     "data": {
      "application/vnd.jupyter.widget-view+json": {
       "model_id": "8bb372d0a31349f78d1b2dd4afb29c27",
       "version_major": 2,
       "version_minor": 0
      },
      "text/plain": [
       "Button(description='Display Participants', style=ButtonStyle())"
      ]
     },
     "metadata": {},
     "output_type": "display_data"
    },
    {
     "data": {
      "application/vnd.jupyter.widget-view+json": {
       "model_id": "f7fed9f5012c4d919f27d91f8db64481",
       "version_major": 2,
       "version_minor": 0
      },
      "text/plain": [
       "Button(description='Pick Winner', style=ButtonStyle())"
      ]
     },
     "metadata": {},
     "output_type": "display_data"
    },
    {
     "data": {
      "application/vnd.jupyter.widget-view+json": {
       "model_id": "d7403e9ef43243aa8abec15e27f2934b",
       "version_major": 2,
       "version_minor": 0
      },
      "text/plain": [
       "Output()"
      ]
     },
     "metadata": {},
     "output_type": "display_data"
    }
   ],
   "source": [
    "# Event handlers\n",
    "display_participants_button.on_click(display_participants)\n",
    "pick_winner_button.on_click(pick_winner)\n",
    "\n",
    "# Display UI elements\n",
    "display(display_participants_button, pick_winner_button, winner_output)"
   ]
  },
  {
   "cell_type": "code",
   "execution_count": null,
   "id": "f000f375-9d33-4097-a5f2-3478815b6984",
   "metadata": {},
   "outputs": [],
   "source": []
  }
 ],
 "metadata": {
  "kernelspec": {
   "display_name": "Python 3 (ipykernel)",
   "language": "python",
   "name": "python3"
  },
  "language_info": {
   "codemirror_mode": {
    "name": "ipython",
    "version": 3
   },
   "file_extension": ".py",
   "mimetype": "text/x-python",
   "name": "python",
   "nbconvert_exporter": "python",
   "pygments_lexer": "ipython3",
   "version": "3.9.5"
  }
 },
 "nbformat": 4,
 "nbformat_minor": 5
}
